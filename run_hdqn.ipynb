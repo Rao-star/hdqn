{
 "cells": [
  {
   "cell_type": "code",
   "execution_count": 14,
   "metadata": {
    "collapsed": false,
    "scrolled": true
   },
   "source": [
    "import matplotlib\n",
    "%matplotlib inline\n",
    "matplotlib.style.use('ggplot')\n",
    "\n",
    "import torch.optim as optim\n",
    "\n",
    "from envs.mdp import StochasticMDPEnv\n",
    "from agents.hdqn_mdp import hDQN, OptimizerSpec\n",
    "from hdqn import hdqn_learning\n",
    "from utils.plotting import plot_episode_stats, plot_visited_states\n",
    "from utils.schedule import LinearSchedule\n",
    "\n",
    "# for auto-reloading external modules\n",
    "# see http://stackoverflow.com/questions/1907993/autoreload-of-modules-in-ipython\n",
    "%load_ext autoreload\n",
    "%autoreload 2"
   ],
   "outputs": []
  },
  {
   "cell_type": "code",
   "execution_count": 15,
   "metadata": {
    "collapsed": false
   },
   "source": [
    "NUM_EPISODES = 12000\n",
    "BATCH_SIZE = 128\n",
    "GAMMA = 1.0\n",
    "REPLAY_MEMORY_SIZE = 1000000\n",
    "LEARNING_RATE = 0.00025\n",
    "ALPHA = 0.95\n",
    "EPS = 0.01\n",
    "\n",
    "optimizer_spec = OptimizerSpec(\n",
    "    constructor=optim.RMSprop,\n",
    "    kwargs=dict(lr=LEARNING_RATE, alpha=ALPHA, eps=EPS),\n",
    ")\n",
    "\n",
    "exploration_schedule = LinearSchedule(50000, 0.1, 1)\n",
    "\n",
    "agent = hDQN(\n",
    "    optimizer_spec=optimizer_spec,\n",
    "    replay_memory_size=REPLAY_MEMORY_SIZE,\n",
    "    batch_size=BATCH_SIZE,\n",
    ")\n",
    "\n",
    "env = StochasticMDPEnv()"
   ],
   "outputs": []
  },
  {
   "cell_type": "code",
   "execution_count": 16,
   "metadata": {
    "collapsed": false,
    "scrolled": false
   },
   "source": [
    "agent, stats, visits = hdqn_learning(\n",
    "    env=env,\n",
    "    agent=agent,\n",
    "    num_episodes=NUM_EPISODES,\n",
    "    exploration_schedule=exploration_schedule,\n",
    "    gamma=GAMMA,\n",
    ")"
   ],
   "outputs": []
  },
  {
   "cell_type": "code",
   "execution_count": 17,
   "metadata": {
    "collapsed": false
   },
   "source": [
    "plot_episode_stats(stats)"
   ],
   "outputs": []
  },
  {
   "cell_type": "code",
   "execution_count": 18,
   "metadata": {
    "collapsed": false
   },
   "source": [
    "plot_visited_states(visits, NUM_EPISODES)"
   ],
   "outputs": []
  },
  {
   "cell_type": "code",
   "execution_count": null,
   "metadata": {
    "collapsed": true
   },
   "source": [],
   "outputs": []
  }
 ],
 "metadata": {
  "anaconda-cloud": {},
  "kernelspec": {
   "display_name": "Python [conda env:py35]",
   "language": "python",
   "name": "conda-env-py35-py"
  },
  "language_info": {
   "codemirror_mode": {
    "name": "ipython",
    "version": 3
   },
   "file_extension": ".py",
   "mimetype": "text/x-python",
   "name": "python",
   "nbconvert_exporter": "python",
   "pygments_lexer": "ipython3",
   "version": "3.5.3"
  }
 },
 "nbformat": 4,
 "nbformat_minor": 1
}
